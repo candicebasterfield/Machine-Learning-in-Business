{
 "cells": [
  {
   "cell_type": "markdown",
   "metadata": {},
   "source": [
    "### Import libraries\n"
   ]
  },
  {
   "cell_type": "code",
   "execution_count": 2,
   "metadata": {},
   "outputs": [],
   "source": [
    "import pandas as pd\n",
    "import numpy as np\n",
    "from sklearn.model_selection import train_test_split, KFold, cross_val_score\n",
    "from sklearn.pipeline import Pipeline\n",
    "from sklearn.compose import ColumnTransformer\n",
    "from sklearn.preprocessing import StandardScaler\n",
    "from sklearn.linear_model import LinearRegression\n",
    "from sklearn.metrics import mean_squared_error"
   ]
  },
  {
   "cell_type": "markdown",
   "metadata": {},
   "source": [
    "### Load data"
   ]
  },
  {
   "cell_type": "code",
   "execution_count": 139,
   "metadata": {},
   "outputs": [
    {
     "name": "stdout",
     "output_type": "stream",
     "text": [
      "<class 'pandas.core.frame.DataFrame'>\n",
      "RangeIndex: 100000 entries, 0 to 99999\n",
      "Data columns (total 5 columns):\n",
      " #   Column   Non-Null Count   Dtype  \n",
      "---  ------   --------------   -----  \n",
      " 0   id       100000 non-null  object \n",
      " 1   f0       100000 non-null  float64\n",
      " 2   f1       100000 non-null  float64\n",
      " 3   f2       100000 non-null  float64\n",
      " 4   product  100000 non-null  float64\n",
      "dtypes: float64(4), object(1)\n",
      "memory usage: 3.8+ MB\n"
     ]
    },
    {
     "data": {
      "text/plain": [
       "(100000, 5)"
      ]
     },
     "execution_count": 139,
     "metadata": {},
     "output_type": "execute_result"
    }
   ],
   "source": [
    "geo0= pd.read_csv('/datasets/geo_data_0.csv')\n",
    "geo0.info()\n",
    "geo0.shape"
   ]
  },
  {
   "cell_type": "code",
   "execution_count": 140,
   "metadata": {},
   "outputs": [
    {
     "data": {
      "text/html": [
       "<div>\n",
       "<style scoped>\n",
       "    .dataframe tbody tr th:only-of-type {\n",
       "        vertical-align: middle;\n",
       "    }\n",
       "\n",
       "    .dataframe tbody tr th {\n",
       "        vertical-align: top;\n",
       "    }\n",
       "\n",
       "    .dataframe thead th {\n",
       "        text-align: right;\n",
       "    }\n",
       "</style>\n",
       "<table border=\"1\" class=\"dataframe\">\n",
       "  <thead>\n",
       "    <tr style=\"text-align: right;\">\n",
       "      <th></th>\n",
       "      <th>id</th>\n",
       "      <th>f0</th>\n",
       "      <th>f1</th>\n",
       "      <th>f2</th>\n",
       "      <th>product</th>\n",
       "    </tr>\n",
       "  </thead>\n",
       "  <tbody>\n",
       "    <tr>\n",
       "      <th>0</th>\n",
       "      <td>txEyH</td>\n",
       "      <td>0.705745</td>\n",
       "      <td>-0.497823</td>\n",
       "      <td>1.221170</td>\n",
       "      <td>105.280062</td>\n",
       "    </tr>\n",
       "    <tr>\n",
       "      <th>1</th>\n",
       "      <td>2acmU</td>\n",
       "      <td>1.334711</td>\n",
       "      <td>-0.340164</td>\n",
       "      <td>4.365080</td>\n",
       "      <td>73.037750</td>\n",
       "    </tr>\n",
       "    <tr>\n",
       "      <th>2</th>\n",
       "      <td>409Wp</td>\n",
       "      <td>1.022732</td>\n",
       "      <td>0.151990</td>\n",
       "      <td>1.419926</td>\n",
       "      <td>85.265647</td>\n",
       "    </tr>\n",
       "    <tr>\n",
       "      <th>3</th>\n",
       "      <td>iJLyR</td>\n",
       "      <td>-0.032172</td>\n",
       "      <td>0.139033</td>\n",
       "      <td>2.978566</td>\n",
       "      <td>168.620776</td>\n",
       "    </tr>\n",
       "    <tr>\n",
       "      <th>4</th>\n",
       "      <td>Xdl7t</td>\n",
       "      <td>1.988431</td>\n",
       "      <td>0.155413</td>\n",
       "      <td>4.751769</td>\n",
       "      <td>154.036647</td>\n",
       "    </tr>\n",
       "    <tr>\n",
       "      <th>...</th>\n",
       "      <td>...</td>\n",
       "      <td>...</td>\n",
       "      <td>...</td>\n",
       "      <td>...</td>\n",
       "      <td>...</td>\n",
       "    </tr>\n",
       "    <tr>\n",
       "      <th>99995</th>\n",
       "      <td>DLsed</td>\n",
       "      <td>0.971957</td>\n",
       "      <td>0.370953</td>\n",
       "      <td>6.075346</td>\n",
       "      <td>110.744026</td>\n",
       "    </tr>\n",
       "    <tr>\n",
       "      <th>99996</th>\n",
       "      <td>QKivN</td>\n",
       "      <td>1.392429</td>\n",
       "      <td>-0.382606</td>\n",
       "      <td>1.273912</td>\n",
       "      <td>122.346843</td>\n",
       "    </tr>\n",
       "    <tr>\n",
       "      <th>99997</th>\n",
       "      <td>3rnvd</td>\n",
       "      <td>1.029585</td>\n",
       "      <td>0.018787</td>\n",
       "      <td>-1.348308</td>\n",
       "      <td>64.375443</td>\n",
       "    </tr>\n",
       "    <tr>\n",
       "      <th>99998</th>\n",
       "      <td>7kl59</td>\n",
       "      <td>0.998163</td>\n",
       "      <td>-0.528582</td>\n",
       "      <td>1.583869</td>\n",
       "      <td>74.040764</td>\n",
       "    </tr>\n",
       "    <tr>\n",
       "      <th>99999</th>\n",
       "      <td>1CWhH</td>\n",
       "      <td>1.764754</td>\n",
       "      <td>-0.266417</td>\n",
       "      <td>5.722849</td>\n",
       "      <td>149.633246</td>\n",
       "    </tr>\n",
       "  </tbody>\n",
       "</table>\n",
       "<p>100000 rows × 5 columns</p>\n",
       "</div>"
      ],
      "text/plain": [
       "          id        f0        f1        f2     product\n",
       "0      txEyH  0.705745 -0.497823  1.221170  105.280062\n",
       "1      2acmU  1.334711 -0.340164  4.365080   73.037750\n",
       "2      409Wp  1.022732  0.151990  1.419926   85.265647\n",
       "3      iJLyR -0.032172  0.139033  2.978566  168.620776\n",
       "4      Xdl7t  1.988431  0.155413  4.751769  154.036647\n",
       "...      ...       ...       ...       ...         ...\n",
       "99995  DLsed  0.971957  0.370953  6.075346  110.744026\n",
       "99996  QKivN  1.392429 -0.382606  1.273912  122.346843\n",
       "99997  3rnvd  1.029585  0.018787 -1.348308   64.375443\n",
       "99998  7kl59  0.998163 -0.528582  1.583869   74.040764\n",
       "99999  1CWhH  1.764754 -0.266417  5.722849  149.633246\n",
       "\n",
       "[100000 rows x 5 columns]"
      ]
     },
     "execution_count": 140,
     "metadata": {},
     "output_type": "execute_result"
    }
   ],
   "source": [
    "geo0"
   ]
  },
  {
   "cell_type": "code",
   "execution_count": 141,
   "metadata": {},
   "outputs": [
    {
     "data": {
      "text/html": [
       "<div>\n",
       "<style scoped>\n",
       "    .dataframe tbody tr th:only-of-type {\n",
       "        vertical-align: middle;\n",
       "    }\n",
       "\n",
       "    .dataframe tbody tr th {\n",
       "        vertical-align: top;\n",
       "    }\n",
       "\n",
       "    .dataframe thead th {\n",
       "        text-align: right;\n",
       "    }\n",
       "</style>\n",
       "<table border=\"1\" class=\"dataframe\">\n",
       "  <thead>\n",
       "    <tr style=\"text-align: right;\">\n",
       "      <th></th>\n",
       "      <th>f0</th>\n",
       "      <th>f1</th>\n",
       "      <th>f2</th>\n",
       "      <th>product</th>\n",
       "    </tr>\n",
       "  </thead>\n",
       "  <tbody>\n",
       "    <tr>\n",
       "      <th>count</th>\n",
       "      <td>100000.000000</td>\n",
       "      <td>100000.000000</td>\n",
       "      <td>100000.000000</td>\n",
       "      <td>100000.000000</td>\n",
       "    </tr>\n",
       "    <tr>\n",
       "      <th>mean</th>\n",
       "      <td>0.500419</td>\n",
       "      <td>0.250143</td>\n",
       "      <td>2.502647</td>\n",
       "      <td>92.500000</td>\n",
       "    </tr>\n",
       "    <tr>\n",
       "      <th>std</th>\n",
       "      <td>0.871832</td>\n",
       "      <td>0.504433</td>\n",
       "      <td>3.248248</td>\n",
       "      <td>44.288691</td>\n",
       "    </tr>\n",
       "    <tr>\n",
       "      <th>min</th>\n",
       "      <td>-1.408605</td>\n",
       "      <td>-0.848218</td>\n",
       "      <td>-12.088328</td>\n",
       "      <td>0.000000</td>\n",
       "    </tr>\n",
       "    <tr>\n",
       "      <th>25%</th>\n",
       "      <td>-0.072580</td>\n",
       "      <td>-0.200881</td>\n",
       "      <td>0.287748</td>\n",
       "      <td>56.497507</td>\n",
       "    </tr>\n",
       "    <tr>\n",
       "      <th>50%</th>\n",
       "      <td>0.502360</td>\n",
       "      <td>0.250252</td>\n",
       "      <td>2.515969</td>\n",
       "      <td>91.849972</td>\n",
       "    </tr>\n",
       "    <tr>\n",
       "      <th>75%</th>\n",
       "      <td>1.073581</td>\n",
       "      <td>0.700646</td>\n",
       "      <td>4.715088</td>\n",
       "      <td>128.564089</td>\n",
       "    </tr>\n",
       "    <tr>\n",
       "      <th>max</th>\n",
       "      <td>2.362331</td>\n",
       "      <td>1.343769</td>\n",
       "      <td>16.003790</td>\n",
       "      <td>185.364347</td>\n",
       "    </tr>\n",
       "  </tbody>\n",
       "</table>\n",
       "</div>"
      ],
      "text/plain": [
       "                  f0             f1             f2        product\n",
       "count  100000.000000  100000.000000  100000.000000  100000.000000\n",
       "mean        0.500419       0.250143       2.502647      92.500000\n",
       "std         0.871832       0.504433       3.248248      44.288691\n",
       "min        -1.408605      -0.848218     -12.088328       0.000000\n",
       "25%        -0.072580      -0.200881       0.287748      56.497507\n",
       "50%         0.502360       0.250252       2.515969      91.849972\n",
       "75%         1.073581       0.700646       4.715088     128.564089\n",
       "max         2.362331       1.343769      16.003790     185.364347"
      ]
     },
     "execution_count": 141,
     "metadata": {},
     "output_type": "execute_result"
    }
   ],
   "source": [
    "## Identify and fill in missing values\n",
    "\n",
    "## Step 1: check for outliers\n",
    "geo0.describe()\n",
    "\n",
    "## Looking at describe method there are no outliers. There are no values greater than max or lower than min.\n",
    "## There are no missing values "
   ]
  },
  {
   "cell_type": "code",
   "execution_count": 142,
   "metadata": {
    "scrolled": true
   },
   "outputs": [
    {
     "name": "stdout",
     "output_type": "stream",
     "text": [
      "<class 'pandas.core.frame.DataFrame'>\n",
      "RangeIndex: 100000 entries, 0 to 99999\n",
      "Data columns (total 5 columns):\n",
      " #   Column   Non-Null Count   Dtype  \n",
      "---  ------   --------------   -----  \n",
      " 0   id       100000 non-null  object \n",
      " 1   f0       100000 non-null  float64\n",
      " 2   f1       100000 non-null  float64\n",
      " 3   f2       100000 non-null  float64\n",
      " 4   product  100000 non-null  float64\n",
      "dtypes: float64(4), object(1)\n",
      "memory usage: 3.8+ MB\n"
     ]
    },
    {
     "data": {
      "text/plain": [
       "(100000, 5)"
      ]
     },
     "execution_count": 142,
     "metadata": {},
     "output_type": "execute_result"
    }
   ],
   "source": [
    "geo1= pd.read_csv('/datasets/geo_data_1.csv')\n",
    "geo1.info()\n",
    "geo1.shape\n"
   ]
  },
  {
   "cell_type": "code",
   "execution_count": 143,
   "metadata": {},
   "outputs": [
    {
     "data": {
      "text/html": [
       "<div>\n",
       "<style scoped>\n",
       "    .dataframe tbody tr th:only-of-type {\n",
       "        vertical-align: middle;\n",
       "    }\n",
       "\n",
       "    .dataframe tbody tr th {\n",
       "        vertical-align: top;\n",
       "    }\n",
       "\n",
       "    .dataframe thead th {\n",
       "        text-align: right;\n",
       "    }\n",
       "</style>\n",
       "<table border=\"1\" class=\"dataframe\">\n",
       "  <thead>\n",
       "    <tr style=\"text-align: right;\">\n",
       "      <th></th>\n",
       "      <th>f0</th>\n",
       "      <th>f1</th>\n",
       "      <th>f2</th>\n",
       "      <th>product</th>\n",
       "    </tr>\n",
       "  </thead>\n",
       "  <tbody>\n",
       "    <tr>\n",
       "      <th>count</th>\n",
       "      <td>100000.000000</td>\n",
       "      <td>100000.000000</td>\n",
       "      <td>100000.000000</td>\n",
       "      <td>100000.000000</td>\n",
       "    </tr>\n",
       "    <tr>\n",
       "      <th>mean</th>\n",
       "      <td>1.141296</td>\n",
       "      <td>-4.796579</td>\n",
       "      <td>2.494541</td>\n",
       "      <td>68.825000</td>\n",
       "    </tr>\n",
       "    <tr>\n",
       "      <th>std</th>\n",
       "      <td>8.965932</td>\n",
       "      <td>5.119872</td>\n",
       "      <td>1.703572</td>\n",
       "      <td>45.944423</td>\n",
       "    </tr>\n",
       "    <tr>\n",
       "      <th>min</th>\n",
       "      <td>-31.609576</td>\n",
       "      <td>-26.358598</td>\n",
       "      <td>-0.018144</td>\n",
       "      <td>0.000000</td>\n",
       "    </tr>\n",
       "    <tr>\n",
       "      <th>25%</th>\n",
       "      <td>-6.298551</td>\n",
       "      <td>-8.267985</td>\n",
       "      <td>1.000021</td>\n",
       "      <td>26.953261</td>\n",
       "    </tr>\n",
       "    <tr>\n",
       "      <th>50%</th>\n",
       "      <td>1.153055</td>\n",
       "      <td>-4.813172</td>\n",
       "      <td>2.011479</td>\n",
       "      <td>57.085625</td>\n",
       "    </tr>\n",
       "    <tr>\n",
       "      <th>75%</th>\n",
       "      <td>8.621015</td>\n",
       "      <td>-1.332816</td>\n",
       "      <td>3.999904</td>\n",
       "      <td>107.813044</td>\n",
       "    </tr>\n",
       "    <tr>\n",
       "      <th>max</th>\n",
       "      <td>29.421755</td>\n",
       "      <td>18.734063</td>\n",
       "      <td>5.019721</td>\n",
       "      <td>137.945408</td>\n",
       "    </tr>\n",
       "  </tbody>\n",
       "</table>\n",
       "</div>"
      ],
      "text/plain": [
       "                  f0             f1             f2        product\n",
       "count  100000.000000  100000.000000  100000.000000  100000.000000\n",
       "mean        1.141296      -4.796579       2.494541      68.825000\n",
       "std         8.965932       5.119872       1.703572      45.944423\n",
       "min       -31.609576     -26.358598      -0.018144       0.000000\n",
       "25%        -6.298551      -8.267985       1.000021      26.953261\n",
       "50%         1.153055      -4.813172       2.011479      57.085625\n",
       "75%         8.621015      -1.332816       3.999904     107.813044\n",
       "max        29.421755      18.734063       5.019721     137.945408"
      ]
     },
     "execution_count": 143,
     "metadata": {},
     "output_type": "execute_result"
    }
   ],
   "source": [
    "## Identify and fill in missing values\n",
    "\n",
    "## Step 1: check for outliers\n",
    "geo1.describe()\n",
    "\n",
    "## Looking at describe method there are no outliers. There are no values greater than max or lower than min.\n",
    "## There are no missing values "
   ]
  },
  {
   "cell_type": "code",
   "execution_count": 144,
   "metadata": {},
   "outputs": [
    {
     "name": "stdout",
     "output_type": "stream",
     "text": [
      "<class 'pandas.core.frame.DataFrame'>\n",
      "RangeIndex: 100000 entries, 0 to 99999\n",
      "Data columns (total 5 columns):\n",
      " #   Column   Non-Null Count   Dtype  \n",
      "---  ------   --------------   -----  \n",
      " 0   id       100000 non-null  object \n",
      " 1   f0       100000 non-null  float64\n",
      " 2   f1       100000 non-null  float64\n",
      " 3   f2       100000 non-null  float64\n",
      " 4   product  100000 non-null  float64\n",
      "dtypes: float64(4), object(1)\n",
      "memory usage: 3.8+ MB\n"
     ]
    },
    {
     "data": {
      "text/plain": [
       "(100000, 5)"
      ]
     },
     "execution_count": 144,
     "metadata": {},
     "output_type": "execute_result"
    }
   ],
   "source": [
    "geo2= pd.read_csv('/datasets/geo_data_2.csv')\n",
    "geo2.info()\n",
    "geo2.shape\n"
   ]
  },
  {
   "cell_type": "code",
   "execution_count": 145,
   "metadata": {},
   "outputs": [
    {
     "data": {
      "text/html": [
       "<div>\n",
       "<style scoped>\n",
       "    .dataframe tbody tr th:only-of-type {\n",
       "        vertical-align: middle;\n",
       "    }\n",
       "\n",
       "    .dataframe tbody tr th {\n",
       "        vertical-align: top;\n",
       "    }\n",
       "\n",
       "    .dataframe thead th {\n",
       "        text-align: right;\n",
       "    }\n",
       "</style>\n",
       "<table border=\"1\" class=\"dataframe\">\n",
       "  <thead>\n",
       "    <tr style=\"text-align: right;\">\n",
       "      <th></th>\n",
       "      <th>f0</th>\n",
       "      <th>f1</th>\n",
       "      <th>f2</th>\n",
       "      <th>product</th>\n",
       "    </tr>\n",
       "  </thead>\n",
       "  <tbody>\n",
       "    <tr>\n",
       "      <th>count</th>\n",
       "      <td>100000.000000</td>\n",
       "      <td>100000.000000</td>\n",
       "      <td>100000.000000</td>\n",
       "      <td>100000.000000</td>\n",
       "    </tr>\n",
       "    <tr>\n",
       "      <th>mean</th>\n",
       "      <td>0.002023</td>\n",
       "      <td>-0.002081</td>\n",
       "      <td>2.495128</td>\n",
       "      <td>95.000000</td>\n",
       "    </tr>\n",
       "    <tr>\n",
       "      <th>std</th>\n",
       "      <td>1.732045</td>\n",
       "      <td>1.730417</td>\n",
       "      <td>3.473445</td>\n",
       "      <td>44.749921</td>\n",
       "    </tr>\n",
       "    <tr>\n",
       "      <th>min</th>\n",
       "      <td>-8.760004</td>\n",
       "      <td>-7.084020</td>\n",
       "      <td>-11.970335</td>\n",
       "      <td>0.000000</td>\n",
       "    </tr>\n",
       "    <tr>\n",
       "      <th>25%</th>\n",
       "      <td>-1.162288</td>\n",
       "      <td>-1.174820</td>\n",
       "      <td>0.130359</td>\n",
       "      <td>59.450441</td>\n",
       "    </tr>\n",
       "    <tr>\n",
       "      <th>50%</th>\n",
       "      <td>0.009424</td>\n",
       "      <td>-0.009482</td>\n",
       "      <td>2.484236</td>\n",
       "      <td>94.925613</td>\n",
       "    </tr>\n",
       "    <tr>\n",
       "      <th>75%</th>\n",
       "      <td>1.158535</td>\n",
       "      <td>1.163678</td>\n",
       "      <td>4.858794</td>\n",
       "      <td>130.595027</td>\n",
       "    </tr>\n",
       "    <tr>\n",
       "      <th>max</th>\n",
       "      <td>7.238262</td>\n",
       "      <td>7.844801</td>\n",
       "      <td>16.739402</td>\n",
       "      <td>190.029838</td>\n",
       "    </tr>\n",
       "  </tbody>\n",
       "</table>\n",
       "</div>"
      ],
      "text/plain": [
       "                  f0             f1             f2        product\n",
       "count  100000.000000  100000.000000  100000.000000  100000.000000\n",
       "mean        0.002023      -0.002081       2.495128      95.000000\n",
       "std         1.732045       1.730417       3.473445      44.749921\n",
       "min        -8.760004      -7.084020     -11.970335       0.000000\n",
       "25%        -1.162288      -1.174820       0.130359      59.450441\n",
       "50%         0.009424      -0.009482       2.484236      94.925613\n",
       "75%         1.158535       1.163678       4.858794     130.595027\n",
       "max         7.238262       7.844801      16.739402     190.029838"
      ]
     },
     "execution_count": 145,
     "metadata": {},
     "output_type": "execute_result"
    }
   ],
   "source": [
    "## Identify and fill in missing values\n",
    "\n",
    "## Step 1: check for outliers\n",
    "geo2.describe()\n",
    "\n",
    "## Looking at describe method there are no outliers. There are no values greater than max or lower than min.\n",
    "## There are no missing values "
   ]
  },
  {
   "cell_type": "markdown",
   "metadata": {},
   "source": [
    "## Region 0"
   ]
  },
  {
   "cell_type": "markdown",
   "metadata": {},
   "source": [
    "### Train and Test model"
   ]
  },
  {
   "cell_type": "code",
   "execution_count": 148,
   "metadata": {},
   "outputs": [
    {
     "name": "stdout",
     "output_type": "stream",
     "text": [
      "Validation RMSE: 37.75660035026169\n",
      "Avg Predicted Product: 92.39879990657768\n",
      "Cross-Validation RMSE: 37.6934503621939\n",
      "Validation Results Summary:\n",
      "        Predictions        Actual\n",
      "count  25000.000000  25000.000000\n",
      "mean      92.398800     92.325956\n",
      "std       23.217563     44.277512\n",
      "min       -9.836371      0.021781\n",
      "25%       76.788865     56.300099\n",
      "50%       92.414871     90.785176\n",
      "75%      108.036487    128.117571\n",
      "max      176.536104    185.355615\n"
     ]
    }
   ],
   "source": [
    "# Separate features and target\n",
    "features = geo0[['f0', 'f1', 'f2']]\n",
    "target = geo0['product']\n",
    "\n",
    "# Preprocessing pipeline for numerical features\n",
    "numerical_transformer = StandardScaler()\n",
    "\n",
    "# Combine preprocessing into a pipeline\n",
    "preprocessor = ColumnTransformer(\n",
    "    transformers=[\n",
    "        ('num', numerical_transformer, ['f0', 'f1', 'f2'])\n",
    "    ]\n",
    ")\n",
    "\n",
    "# Model\n",
    "model = LinearRegression()\n",
    "\n",
    "# Split data into training and validation sets (75%:25%)\n",
    "X_train, X_val, y_train, y_val = train_test_split(\n",
    "    features, target, test_size=0.25, random_state=42)\n",
    "\n",
    "# Combine preprocessing and model in pipeline\n",
    "model_pipeline = Pipeline(steps=[\n",
    "    ('preprocessor', preprocessor),\n",
    "    ('model', model)\n",
    "])\n",
    "\n",
    "# Train the model\n",
    "model_pipeline.fit(X_train, y_train)\n",
    "\n",
    "# Make predictions on the validation set\n",
    "predictions_geo0 = model_pipeline.predict(X_val)\n",
    "\n",
    "# Save predictions and actual values\n",
    "validation_results = pd.DataFrame({\n",
    "    'Predictions': predictions_geo0,\n",
    "    'Actual': y_val\n",
    "})\n",
    "\n",
    "# Calculate RMSE\n",
    "rmse = np.sqrt(mean_squared_error(y_val, predictions_geo0))\n",
    "print(f\"Validation RMSE: {rmse}\")\n",
    "\n",
    "# Calculate average predicted product\n",
    "avg_predicted_product_geo0 = np.mean(predictions_geo0)\n",
    "print(f\"Avg Predicted Product: {avg_predicted_product_geo0}\")\n",
    "\n",
    "# Cross-validation\n",
    "cv = KFold(n_splits=5, shuffle=True, random_state=42)\n",
    "cv_scores = cross_val_score(model_pipeline, features, target, \n",
    "                            cv=cv, scoring='neg_root_mean_squared_error')\n",
    "print(f\"Cross-Validation RMSE: {-np.mean(cv_scores)}\")\n",
    "\n",
    "# Analyze results\n",
    "print(\"Validation Results Summary:\")\n",
    "print(validation_results.describe())\n"
   ]
  },
  {
   "cell_type": "markdown",
   "metadata": {},
   "source": [
    "The model performs well on average, with predicted values (92.40), which matches the actual value of 92.33.  The RMSE (37.7) reflects moderate prediction errors. This suggests that the model's RMSE differ from the actual values by 37.76 units. \n"
   ]
  },
  {
   "cell_type": "markdown",
   "metadata": {},
   "source": [
    "#### profit calcualtions"
   ]
  },
  {
   "cell_type": "code",
   "execution_count": 151,
   "metadata": {},
   "outputs": [],
   "source": [
    "# Convert predictions to series for profit function\n",
    "predictions_series = pd.Series(predictions_geo0, index=y_val.index)"
   ]
  },
  {
   "cell_type": "markdown",
   "metadata": {},
   "source": [
    "# Parameters \n",
    "\n",
    "* total_budget = 100_000_000  # Total budget in dollars\n",
    "* num_wells = 200             # Number of wells\n",
    "* revenue_per_barrel = 4.50   # Revenue per barrel in dollars"
   ]
  },
  {
   "cell_type": "code",
   "execution_count": 153,
   "metadata": {},
   "outputs": [],
   "source": [
    "# Define the profit calculation function\n",
    "def get_profit(targets, predictions_series):\n",
    "    # Sort predictions and select top 200 wells\n",
    "    predictions_sorted = predictions_series.sort_values(ascending=False).head(200)\n",
    "    selected_wells = targets.loc[predictions_sorted.index]\n",
    "    \n",
    "    # Calculate the profit\n",
    "    profit = (4500 * selected_wells.sum()) - 100_000_000\n",
    "    \n",
    "    return round(profit, 2)\n"
   ]
  },
  {
   "cell_type": "code",
   "execution_count": 154,
   "metadata": {},
   "outputs": [
    {
     "name": "stdout",
     "output_type": "stream",
     "text": [
      "Profit for geo0: $33591411.14\n"
     ]
    }
   ],
   "source": [
    "# Calculate profit for geo0\n",
    "profit_geo0 = get_profit(y_val, predictions_series)\n",
    "print(f\"Profit for geo0: ${profit_geo0}\")"
   ]
  },
  {
   "cell_type": "markdown",
   "metadata": {},
   "source": [
    "By selecting the top 200 wells based on model predictions, the profit was calcuated as 33,591,411.14 dollars. This indicates that the model identifies high-production wells, resulting in profit after deducting the fixed cost of 100 million dollars. "
   ]
  },
  {
   "cell_type": "markdown",
   "metadata": {},
   "source": [
    "#### Bootstrapping"
   ]
  },
  {
   "cell_type": "markdown",
   "metadata": {},
   "source": [
    "Calculate the risk of loss and the 95% confidence interval of profits.\n",
    "\n",
    "Parameters:\n",
    "- targets: Actual reserves (series).\n",
    "- predictions: Predicted reserves (series).\n",
    "\n",
    "Returns:\n",
    "- 95% CI and risk of loss percentage."
   ]
  },
  {
   "cell_type": "code",
   "execution_count": 158,
   "metadata": {},
   "outputs": [],
   "source": [
    "# Risk evaluation function\n",
    "def calc_risk(targets, predictions_series):\n",
    "\n",
    "    profits = []\n",
    "\n",
    "    # Combine predictions and targets into a single DataFrame\n",
    "    combined_df = pd.DataFrame({'predictions': predictions_geo0, 'targets': targets.reset_index(drop=True)})\n",
    "    \n",
    "    # Simulate profits 1000 times with bootstrapping\n",
    "    for i in range(1000):\n",
    "        target_subsample = combined_df.sample(n=500, replace=True).reset_index(drop=True)\n",
    "        profits.append(get_profit(target_subsample['targets'], target_subsample['predictions']))\n",
    "    \n",
    "    # Convert profits to Pandas Series for statistical analysis\n",
    "    profits = pd.Series(profits)\n",
    "    profit_mean = profits.mean()\n",
    "    \n",
    "    # Calculate 95% confidence interval\n",
    "    upper = profits.quantile(0.975)\n",
    "    lower = profits.quantile(0.025)\n",
    "    \n",
    "    # Calculate the risk of loss\n",
    "    risk = np.mean(profits < 0) * 100\n",
    "    \n",
    "    print(f\"95% CI interval: {lower}, {upper}\")\n",
    "    print(f\"Risk of loss: {risk}%\")\n",
    "\n"
   ]
  },
  {
   "cell_type": "code",
   "execution_count": 159,
   "metadata": {},
   "outputs": [
    {
     "name": "stdout",
     "output_type": "stream",
     "text": [
      "95% CI interval: -1365543.82675, 9255727.96675\n",
      "Risk of loss: 7.3%\n"
     ]
    }
   ],
   "source": [
    "calc_risk(y_val, predictions_series)"
   ]
  },
  {
   "cell_type": "markdown",
   "metadata": {},
   "source": [
    "The bootstrapping results suggest that the profit from randomly selected subsamples (500 wells) will likely fall within this range 95% of the time. The large range indicates variability in the potential profit.\n",
    "\n",
    "There is a 6.1% chance of incurring a loss in profit when selecting wells based on the model's predictions. "
   ]
  },
  {
   "cell_type": "markdown",
   "metadata": {},
   "source": [
    "## Region 1"
   ]
  },
  {
   "cell_type": "code",
   "execution_count": 162,
   "metadata": {},
   "outputs": [
    {
     "name": "stdout",
     "output_type": "stream",
     "text": [
      "Validation RMSE: 0.8902801001028839\n",
      "Avg Predicted Product: 68.7128780391376\n",
      "Cross-Validation RMSE: 0.8904111873203165\n",
      "Validation Results Summary:\n",
      "        Predictions        Actual\n",
      "count  25000.000000  25000.000000\n",
      "mean      68.712878     68.725381\n",
      "std       45.946672     45.945586\n",
      "min       -2.070621      0.000000\n",
      "25%       28.578501     30.132364\n",
      "50%       57.918041     57.085625\n",
      "75%      109.313612    107.813044\n",
      "max      139.983277    137.945408\n"
     ]
    }
   ],
   "source": [
    "\n",
    "# Separate features and target\n",
    "features = geo1[['f0', 'f1', 'f2']]\n",
    "target = geo1['product']\n",
    "\n",
    "# Preprocessing pipeline for numerical features\n",
    "numerical_transformer = StandardScaler()\n",
    "\n",
    "# Combine preprocessing into a pipeline\n",
    "preprocessor = ColumnTransformer(\n",
    "    transformers=[\n",
    "        ('num', numerical_transformer, ['f0', 'f1', 'f2'])\n",
    "    ]\n",
    ")\n",
    "\n",
    "# Model\n",
    "model = LinearRegression()\n",
    "\n",
    "# Results storage\n",
    "results = []\n",
    "\n",
    "# Split data into training and validation sets (75%:25%)\n",
    "X_train, X_val, y_train, y_val = train_test_split(\n",
    "    features, target, test_size=0.25, random_state=42)\n",
    "\n",
    "# Combine preprocessing and model in pipeline\n",
    "model_pipeline = Pipeline(steps=[\n",
    "    ('preprocessor', preprocessor),\n",
    "    ('model', model)\n",
    "])\n",
    "\n",
    "# Training model\n",
    "model_pipeline.fit(X_train, y_train)\n",
    "\n",
    "# Make predictions on the validation set\n",
    "predictions_geo1 = model_pipeline.predict(X_val)\n",
    "\n",
    "# Save predictions and actual values\n",
    "validation_results = pd.DataFrame({\n",
    "    'Predictions': predictions_geo1,\n",
    "    'Actual': y_val\n",
    "})\n",
    "results.append(validation_results)\n",
    "\n",
    "# Calculate RMSE\n",
    "rmse = np.sqrt(mean_squared_error(y_val, predictions_geo1))\n",
    "print(f\"Validation RMSE: {rmse}\")\n",
    "\n",
    "# Calculate average predicted product\n",
    "avg_predicted_product_geo1 = np.mean(predictions_geo1)\n",
    "print(f\"Avg Predicted Product: {avg_predicted_product_geo1}\")\n",
    "\n",
    "# Cross-validation\n",
    "cv = KFold(n_splits=5, shuffle=True, random_state=42)\n",
    "cv_scores = cross_val_score(model_pipeline, features, target, \n",
    "                            cv=cv, scoring='neg_root_mean_squared_error')\n",
    "print(f\"Cross-Validation RMSE: {-np.mean(cv_scores)}\")\n",
    "\n",
    "# Analyze results\n",
    "print(\"Validation Results Summary:\")\n",
    "print(validation_results.describe())"
   ]
  },
  {
   "cell_type": "markdown",
   "metadata": {},
   "source": [
    "The model performs well on average, with predicted values (68.71), which matches the actual value of 68.73.  \n",
    "An RMSE of 0.8903 is very small, indicating good predictive performance"
   ]
  },
  {
   "cell_type": "markdown",
   "metadata": {},
   "source": [
    "#### profit calcualtions"
   ]
  },
  {
   "cell_type": "code",
   "execution_count": 165,
   "metadata": {},
   "outputs": [],
   "source": [
    "# Convert predictions to series for profit function\n",
    "predictions_series = pd.Series(predictions_geo1, index=y_val.index)"
   ]
  },
  {
   "cell_type": "code",
   "execution_count": 166,
   "metadata": {},
   "outputs": [],
   "source": [
    "# Define the profit calculation function\n",
    "def get_profit(targets, predictions_series):\n",
    "    # Sort predictions and select top 200 wells\n",
    "    predictions_sorted = predictions_series.sort_values(ascending=False).head(200)\n",
    "    selected_wells = targets.loc[predictions_sorted.index]\n",
    "    \n",
    "    # Calculate the profit\n",
    "    profit = (4500 * selected_wells.sum()) - 100_000_000\n",
    "    \n",
    "    return round(profit, 2)"
   ]
  },
  {
   "cell_type": "code",
   "execution_count": 167,
   "metadata": {},
   "outputs": [
    {
     "name": "stdout",
     "output_type": "stream",
     "text": [
      "Profit for geo1: $24150866.97\n"
     ]
    }
   ],
   "source": [
    "# Calculate profit for geo0\n",
    "profit_geo1 = get_profit(y_val, predictions_series)\n",
    "print(f\"Profit for geo1: ${profit_geo1}\")"
   ]
  },
  {
   "cell_type": "markdown",
   "metadata": {},
   "source": [
    "By selecting the top 200 wells based on model predictions, the profit was calcuated as $24150866.97. This indicates that the model identifies high-production wells, resulting in profit after deducting the fixed cost of $100 million. "
   ]
  },
  {
   "cell_type": "markdown",
   "metadata": {},
   "source": [
    "#### Bootstrapping"
   ]
  },
  {
   "cell_type": "code",
   "execution_count": 170,
   "metadata": {},
   "outputs": [],
   "source": [
    "# Risk evaluation function\n",
    "def calc_risk(targets, predictions_series):\n",
    "\n",
    "    profits = []\n",
    "\n",
    "    # Combine predictions and targets into a single DataFrame\n",
    "    combined_df = pd.DataFrame({'predictions': predictions_geo1, 'targets': targets.reset_index(drop=True)})\n",
    "    \n",
    "    # Simulate profits 1000 times with bootstrapping\n",
    "    for i in range(1000):\n",
    "        target_subsample = combined_df.sample(n=500, replace=True).reset_index(drop=True)\n",
    "        profits.append(get_profit(target_subsample['targets'], target_subsample['predictions']))\n",
    "    \n",
    "    # Convert profits to Pandas Series for statistical analysis\n",
    "    profits = pd.Series(profits)\n",
    "    profit_mean = profits.mean()\n",
    "    \n",
    "    # Calculate 95% confidence interval\n",
    "    upper = profits.quantile(0.975)\n",
    "    lower = profits.quantile(0.025)\n",
    "    \n",
    "    # Calculate the risk of loss\n",
    "    risk = np.mean(profits < 0) * 100\n",
    "    \n",
    "    print(f\"95% CI interval: {lower}, {upper}\")\n",
    "    print(f\"Risk of loss: {risk}%\")\n"
   ]
  },
  {
   "cell_type": "code",
   "execution_count": 171,
   "metadata": {},
   "outputs": [
    {
     "name": "stdout",
     "output_type": "stream",
     "text": [
      "95% CI interval: 329123.9162500001, 8610145.35525\n",
      "Risk of loss: 1.6%\n"
     ]
    }
   ],
   "source": [
    "calc_risk(y_val, predictions_series)"
   ]
  },
  {
   "cell_type": "markdown",
   "metadata": {},
   "source": [
    "The bootstrapping results suggest that the profit from randomly selected subsamples (500 wells) will likely fall within this range 95% of the time. The large range indicates variability in the potential profit.\n",
    "\n",
    "There is a 2.5% chance of incurring a loss in profit when selecting wells based on the model's predictions. "
   ]
  },
  {
   "cell_type": "markdown",
   "metadata": {},
   "source": [
    "## Region 2"
   ]
  },
  {
   "cell_type": "code",
   "execution_count": 174,
   "metadata": {},
   "outputs": [
    {
     "name": "stdout",
     "output_type": "stream",
     "text": [
      "Validation RMSE: 40.145872311342174\n",
      "Avg Predicted Product: 94.77102387765939\n",
      "Cross-Validation RMSE: 40.05670367540113\n",
      "Validation Results Summary:\n",
      "        Predictions        Actual\n",
      "count  25000.000000  25000.000000\n",
      "mean      94.771024     95.150999\n",
      "std       19.927375     44.783220\n",
      "min       16.196849      0.019327\n",
      "25%       81.157678     59.666842\n",
      "50%       94.612618     94.936982\n",
      "75%      108.357649    130.566313\n",
      "max      170.529209    190.011722\n"
     ]
    }
   ],
   "source": [
    "### Region 2:geo2\n",
    "\n",
    "# Separate features and target\n",
    "features = geo2[['f0', 'f1', 'f2']]\n",
    "target = geo2['product']\n",
    "\n",
    "# Preprocessing pipeline for numerical features\n",
    "numerical_transformer = StandardScaler()\n",
    "\n",
    "# Combine preprocessing into a pipeline\n",
    "preprocessor = ColumnTransformer(\n",
    "    transformers=[\n",
    "        ('num', numerical_transformer, ['f0', 'f1', 'f2'])\n",
    "    ]\n",
    ")\n",
    "\n",
    "# Model\n",
    "model = LinearRegression()\n",
    "\n",
    "# Results storage\n",
    "results = []\n",
    "\n",
    "# Split data into training and validation sets (75%:25%)\n",
    "X_train, X_val, y_train, y_val = train_test_split(\n",
    "    features, target, test_size=0.25, random_state=42)\n",
    "\n",
    "# Combine preprocessing and model in pipeline\n",
    "model_pipeline = Pipeline(steps=[\n",
    "    ('preprocessor', preprocessor),\n",
    "    ('model', model)\n",
    "])\n",
    "\n",
    "# Training model\n",
    "model_pipeline.fit(X_train, y_train)\n",
    "\n",
    "# Make predictions on the validation set\n",
    "predictions_geo2 = model_pipeline.predict(X_val)\n",
    "\n",
    "# Save predictions and actual values\n",
    "validation_results = pd.DataFrame({\n",
    "    'Predictions': predictions_geo2,\n",
    "    'Actual': y_val\n",
    "})\n",
    "results.append(validation_results)\n",
    "\n",
    "# Calculate RMSE\n",
    "rmse = np.sqrt(mean_squared_error(y_val, predictions_geo2))\n",
    "print(f\"Validation RMSE: {rmse}\")\n",
    "\n",
    "# Calculate average predicted product\n",
    "avg_predicted_product_geo2 = np.mean(predictions_geo2)\n",
    "print(f\"Avg Predicted Product: {avg_predicted_product_geo2}\")\n",
    "\n",
    "# Cross-validation\n",
    "cv = KFold(n_splits=5, shuffle=True, random_state=42)\n",
    "cv_scores = cross_val_score(model_pipeline, features, target, \n",
    "                            cv=cv, scoring='neg_root_mean_squared_error')\n",
    "print(f\"Cross-Validation RMSE: {-np.mean(cv_scores)}\")\n",
    "\n",
    "# Analyze results\n",
    "print(\"Validation Results Summary:\")\n",
    "print(validation_results.describe())"
   ]
  },
  {
   "cell_type": "markdown",
   "metadata": {},
   "source": [
    "The model's Validation RMSE of 40.15 and Cross-Validation RMSE of 40.06, which is indicative of consistent performance. The predicted mean (94.77) closely matches the actual mean (95.15), suggetsing good calibration overall. However, the predicted standard deviation (19.93) is much lower than the actual (44.78), suggesting the model underestimates variability. "
   ]
  },
  {
   "cell_type": "markdown",
   "metadata": {},
   "source": [
    "#### profit calcualtions"
   ]
  },
  {
   "cell_type": "code",
   "execution_count": 177,
   "metadata": {},
   "outputs": [],
   "source": [
    "# Convert predictions to series for profit function\n",
    "predictions_series = pd.Series(predictions_geo2, index=y_val.index)"
   ]
  },
  {
   "cell_type": "code",
   "execution_count": 178,
   "metadata": {},
   "outputs": [],
   "source": [
    "# Define the profit calculation function\n",
    "def get_profit(targets, predictions_series):\n",
    "    # Sort predictions and select top 200 wells\n",
    "    predictions_sorted = predictions_series.sort_values(ascending=False).head(200)\n",
    "    selected_wells = targets.loc[predictions_sorted.index]\n",
    "    \n",
    "    # Calculate the profit\n",
    "    profit = (4500 * selected_wells.sum()) - 100_000_000\n",
    "    \n",
    "    return round(profit, 2)"
   ]
  },
  {
   "cell_type": "code",
   "execution_count": 179,
   "metadata": {},
   "outputs": [
    {
     "name": "stdout",
     "output_type": "stream",
     "text": [
      "Profit for geo1: $25985717.59\n"
     ]
    }
   ],
   "source": [
    "# Calculate profit for geo0\n",
    "profit_geo2 = get_profit(y_val, predictions_series)\n",
    "print(f\"Profit for geo1: ${profit_geo2}\")"
   ]
  },
  {
   "cell_type": "markdown",
   "metadata": {},
   "source": [
    "By selecting the top 200 wells based on model predictions, the profit was calcuated as $25985717.59. This indicates that the model identifies high-production wells, resulting in profit after deducting the fixed cost of $100 million. "
   ]
  },
  {
   "cell_type": "markdown",
   "metadata": {},
   "source": [
    "#### Bootstrapping"
   ]
  },
  {
   "cell_type": "code",
   "execution_count": 182,
   "metadata": {},
   "outputs": [],
   "source": [
    "# Risk evaluation function\n",
    "def calc_risk(targets, predictions_series):\n",
    "\n",
    "    profits = []\n",
    "\n",
    "    # Combine predictions and targets into a single DataFrame\n",
    "    combined_df = pd.DataFrame({'predictions': predictions_geo2, 'targets': targets.reset_index(drop=True)})\n",
    "    \n",
    "    # Simulate profits 1000 times with bootstrapping\n",
    "    for i in range(1000):\n",
    "        target_subsample = combined_df.sample(n=500, replace=True).reset_index(drop=True)\n",
    "        profits.append(get_profit(target_subsample['targets'], target_subsample['predictions']))\n",
    "    \n",
    "    # Convert profits to Pandas Series for statistical analysis\n",
    "    profits = pd.Series(profits)\n",
    "    profit_mean = profits.mean()\n",
    "    \n",
    "    # Calculate 95% confidence interval\n",
    "    upper = profits.quantile(0.975)\n",
    "    lower = profits.quantile(0.025)\n",
    "    \n",
    "    # Calculate the risk of loss\n",
    "    risk = np.mean(profits < 0) * 100\n",
    "    \n",
    "    print(f\"95% CI interval: {lower}, {upper}\")\n",
    "    print(f\"Risk of loss: {risk}%\")\n"
   ]
  },
  {
   "cell_type": "code",
   "execution_count": 183,
   "metadata": {},
   "outputs": [
    {
     "name": "stdout",
     "output_type": "stream",
     "text": [
      "95% CI interval: -1407473.52375, 8971474.664\n",
      "Risk of loss: 8.0%\n"
     ]
    }
   ],
   "source": [
    "calc_risk(y_val, predictions_series)"
   ]
  },
  {
   "cell_type": "markdown",
   "metadata": {},
   "source": [
    "The bootstrapping results suggest that the profit from randomly selected subsamples (500 wells) will likely fall within this range 95% of the time. The large range indicates variability in the potential profit.\n",
    "\n",
    "There is a 8.8% chance of incurring a loss in profit when selecting wells based on the model's predictions. "
   ]
  },
  {
   "cell_type": "markdown",
   "metadata": {},
   "source": [
    "### Summary"
   ]
  },
  {
   "cell_type": "markdown",
   "metadata": {},
   "source": [
    "Geo0 offers the highest profit among the three regions, making it a strong candidate for development. However, profitability alone does not determine the best region; risk and confidence intervals should also be considered.\n"
   ]
  },
  {
   "cell_type": "markdown",
   "metadata": {},
   "source": [
    "Geo1 has the lowest risk of loss (2.5%) and a positive lower bound in the 95% confidence interval, indicating a minimal chance of financial loss. Although geo0 provides the highest profit, its higher risk and the possibility of a negative outcome make geo1 a safer and more stable choice."
   ]
  },
  {
   "cell_type": "code",
   "execution_count": 192,
   "metadata": {},
   "outputs": [
    {
     "name": "stdout",
     "output_type": "stream",
     "text": [
      "Break-even production per well: 111.11 thousand barrels\n",
      "\n",
      "Comparison with Break-even Production:\n",
      "geo0: Average reserves = 92.39879990657768 → BELOW break-even point\n",
      "geo1: Average reserves = 68.7128780391376 → BELOW break-even point\n",
      "geo2: Average reserves = 94.77102387765939 → BELOW break-even point\n",
      "\n",
      "Findings:\n",
      "The break-even production per well is 111.11 thousand barrels.\n",
      "geo0 has average reserves of 92.39879990657768, which is BELOW the break-even threshold.\n",
      "geo1 has average reserves of 68.7128780391376, which is BELOW the break-even threshold.\n",
      "geo2 has average reserves of 94.77102387765939, which is BELOW the break-even threshold.\n"
     ]
    }
   ],
   "source": [
    "BUDGET = 100000000            # Budget in USD\n",
    "NUM_WELLS = 200                 # Number of wells to develop\n",
    "REVENUE_PER_UNIT = 4500         # Revenue per thousand barrels\n",
    "\n",
    "# 3.2 break-even volume per well\n",
    "break_even_production = BUDGET / (REVENUE_PER_UNIT * NUM_WELLS)\n",
    "print(f\"Break-even production per well: {break_even_production:.2f} thousand barrels\")\n",
    "\n",
    "\n",
    "# average reserves per region\n",
    "avg_reserves = {\n",
    "    'geo0': avg_predicted_product_geo0,\n",
    "    'geo1': avg_predicted_product_geo1,\n",
    "    'geo2': avg_predicted_product_geo2\n",
    "}\n",
    "\n",
    "# 3.3 average reserves versus break-even production\n",
    "print(\"\\nComparison with Break-even Production:\")\n",
    "for region, avg in avg_reserves.items():\n",
    "    status = \"BELOW\" if avg < break_even_production else \"ABOVE\"\n",
    "    print(f\"{region}: Average reserves = {avg} → {status} break-even point\")\n",
    "\n",
    "\n",
    "print(\"\\nFindings:\")\n",
    "print(f\"The break-even production per well is {break_even_production:.2f} thousand barrels.\")\n",
    "for region, avg in avg_reserves.items():\n",
    "    if avg < break_even_production:\n",
    "        print(f\"{region} has average reserves of {avg}, which is BELOW the break-even threshold.\")\n",
    "    else:\n",
    "        print(f\"{region} has average reserves of {avg}, which is ABOVE the break-even threshold.\")\n"
   ]
  },
  {
   "cell_type": "markdown",
   "metadata": {},
   "source": [
    "All three regions (geo0, geo1, and geo2) have average reserves below the break-even threshold, which suggetss that none of the regions can actually cover development costs without more selective well development strategy. "
   ]
  }
 ],
 "metadata": {
  "ExecuteTimeLog": [
   {
    "duration": 8,
    "start_time": "2025-01-09T23:11:18.431Z"
   }
  ],
  "kernelspec": {
   "display_name": "sklearn-env",
   "language": "python",
   "name": "python3"
  },
  "language_info": {
   "codemirror_mode": {
    "name": "ipython",
    "version": 3
   },
   "file_extension": ".py",
   "mimetype": "text/x-python",
   "name": "python",
   "nbconvert_exporter": "python",
   "pygments_lexer": "ipython3",
   "version": "3.12.5"
  },
  "toc": {
   "base_numbering": 1,
   "nav_menu": {},
   "number_sections": true,
   "sideBar": true,
   "skip_h1_title": true,
   "title_cell": "Table of Contents",
   "title_sidebar": "Contents",
   "toc_cell": false,
   "toc_position": {},
   "toc_section_display": true,
   "toc_window_display": false
  }
 },
 "nbformat": 4,
 "nbformat_minor": 4
}
